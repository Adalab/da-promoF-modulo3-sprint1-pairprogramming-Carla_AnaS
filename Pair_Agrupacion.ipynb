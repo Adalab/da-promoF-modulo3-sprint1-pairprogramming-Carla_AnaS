{
 "cells": [
  {
   "cell_type": "code",
   "execution_count": 2,
   "metadata": {},
   "outputs": [],
   "source": [
    "import pandas as pd\n",
    "import numpy as np"
   ]
  },
  {
   "cell_type": "code",
   "execution_count": 3,
   "metadata": {},
   "outputs": [],
   "source": [
    "data3 = pd.read_csv(\"Cambios_limpieza.csv\", index_col=0)"
   ]
  },
  {
   "cell_type": "code",
   "execution_count": 4,
   "metadata": {},
   "outputs": [
    {
     "data": {
      "text/plain": [
       "Index(['country', 'density', 'abbreviation', 'agriculturalland', 'landarea',\n",
       "       'armedforcessize', 'birthrate', 'callingcode', 'capital/majorcity',\n",
       "       'co2-emissions', 'cpi', 'cpichange', 'currency-code', 'fertilityrate',\n",
       "       'forestedarea', 'gasolineprice', 'gdp',\n",
       "       'grossprimaryeducationenrollment', 'grosstertiaryeducationenrollment',\n",
       "       'infantmortality', 'largestcity', 'lifeexpectancy',\n",
       "       'maternalmortalityratio', 'minimumwage', 'officiallanguage',\n",
       "       'outofpockethealthexpenditure', 'physiciansperthousand', 'population',\n",
       "       'populationlaborforceparticipation', 'taxrevenue', 'totaltaxrate',\n",
       "       'unemploymentrate', 'urban_population', 'coordinates', 'latitude',\n",
       "       'longitude'],\n",
       "      dtype='object')"
      ]
     },
     "execution_count": 4,
     "metadata": {},
     "output_type": "execute_result"
    }
   ],
   "source": [
    "data3.columns"
   ]
  },
  {
   "cell_type": "markdown",
   "metadata": {},
   "source": [
    "Ejercicios apply"
   ]
  },
  {
   "cell_type": "code",
   "execution_count": 5,
   "metadata": {},
   "outputs": [],
   "source": [
    "# 1. Las columnas land_area, armed_forces_size, co2-emissions, gdp, population, urban_population, latitude, longitude, density, cpi \n",
    "# son de tipo object pero en realidad deberían ser numéricas.\n",
    "# Crea una función que nos permita cambiar el tipo de dato de estas columnas al que le corresponde."
   ]
  },
  {
   "cell_type": "code",
   "execution_count": 27,
   "metadata": {},
   "outputs": [
    {
     "name": "stdout",
     "output_type": "stream",
     "text": [
      "\n",
      "DataFrame después del cambio:\n",
      "         country  density abbreviation  agriculturalland  landarea  \\\n",
      "0    Afghanistan     60.0           AF              58.1   652.230   \n",
      "1        Albania    105.0           AL              43.1    28.748   \n",
      "2        Algeria     18.0           DZ              17.4       NaN   \n",
      "3        Andorra    164.0           AD              40.0   468.000   \n",
      "4         Angola     26.0           AO              47.5       NaN   \n",
      "..           ...      ...          ...               ...       ...   \n",
      "190    Venezuela     32.0           VE              24.5   912.050   \n",
      "191      Vietnam    314.0           VN              39.3   331.210   \n",
      "192        Yemen     56.0           YE              44.6   527.968   \n",
      "193       Zambia     25.0           ZM              32.1   752.618   \n",
      "194     Zimbabwe     38.0           ZW              41.9   390.757   \n",
      "\n",
      "     armedforcessize  birthrate  callingcode capital/majorcity  co2-emissions  \\\n",
      "0              323.0      32.49         93.0             Kabul          8.672   \n",
      "1                9.0      11.78        355.0            Tirana          4.536   \n",
      "2              317.0      24.28        213.0           Algiers        150.006   \n",
      "3                NaN       7.20        376.0  Andorra la Vella        469.000   \n",
      "4              117.0      40.73        244.0            Luanda         34.693   \n",
      "..               ...        ...          ...               ...            ...   \n",
      "190            343.0      17.88         58.0           Caracas        164.175   \n",
      "191            522.0      16.75         84.0             Hanoi        192.668   \n",
      "192             40.0      30.45        967.0             Sanaa         10.609   \n",
      "193             16.0      36.19        260.0            Lusaka          5.141   \n",
      "194             51.0      30.68        263.0            Harare         10.983   \n",
      "\n",
      "     ...  physiciansperthousand  population populationlaborforceparticipation  \\\n",
      "0    ...                   0.28         NaN                              48.9   \n",
      "1    ...                   1.20         NaN                              55.7   \n",
      "2    ...                   1.72         NaN                              41.2   \n",
      "3    ...                   3.33      77.142                               NaN   \n",
      "4    ...                   0.21         NaN                              77.5   \n",
      "..   ...                    ...         ...                               ...   \n",
      "190  ...                   1.92         NaN                              59.7   \n",
      "191  ...                   0.82         NaN                              77.4   \n",
      "192  ...                   0.31         NaN                              38.0   \n",
      "193  ...                   1.19         NaN                              74.6   \n",
      "194  ...                   0.21         NaN                              83.1   \n",
      "\n",
      "     taxrevenue  totaltaxrate unemploymentrate  urban_population  \\\n",
      "0           9.3          71.4            11.12               NaN   \n",
      "1          18.6          36.6            12.33               NaN   \n",
      "2          37.2          66.1            11.70               NaN   \n",
      "3           NaN           NaN              NaN            67.873   \n",
      "4           9.2          49.1             6.89               NaN   \n",
      "..          ...           ...              ...               ...   \n",
      "190         NaN          73.3             8.80               NaN   \n",
      "191        19.1          37.6             2.01               NaN   \n",
      "192         NaN          26.6            12.91               NaN   \n",
      "193        16.2          15.6            11.43               NaN   \n",
      "194        20.7          31.6             4.95               NaN   \n",
      "\n",
      "                      coordinates  latitude  longitude  \n",
      "0      ('33.93911 ', '67.709953')       NaN        NaN  \n",
      "1     ('41.153332 ', '20.168331')       NaN        NaN  \n",
      "2      ('28.033886 ', '1.659626')       NaN        NaN  \n",
      "3      ('42.506285 ', '1.521801')       NaN        NaN  \n",
      "4    ('-11.202692 ', '17.873887')       NaN        NaN  \n",
      "..                            ...       ...        ...  \n",
      "190     ('6.42375 ', '-66.58973')       NaN        NaN  \n",
      "191  ('14.058324 ', '108.277199')       NaN        NaN  \n",
      "192   ('15.552727 ', '48.516388')       NaN        NaN  \n",
      "193  ('-13.133897 ', '27.849332')       NaN        NaN  \n",
      "194  ('-19.015438 ', '29.154857')       NaN        NaN  \n",
      "\n",
      "[195 rows x 36 columns]\n",
      "\n",
      "Tipos de datos después del cambio:\n",
      "country                               object\n",
      "density                              float64\n",
      "abbreviation                          object\n",
      "agriculturalland                     float64\n",
      "landarea                             float64\n",
      "armedforcessize                      float64\n",
      "birthrate                            float64\n",
      "callingcode                          float64\n",
      "capital/majorcity                     object\n",
      "co2-emissions                        float64\n",
      "cpi                                  float64\n",
      "cpichange                            float64\n",
      "currency-code                         object\n",
      "fertilityrate                        float64\n",
      "forestedarea                         float64\n",
      "gasolineprice                         object\n",
      "gdp                                  float64\n",
      "grossprimaryeducationenrollment      float64\n",
      "grosstertiaryeducationenrollment     float64\n",
      "infantmortality                      float64\n",
      "largestcity                           object\n",
      "lifeexpectancy                       float64\n",
      "maternalmortalityratio               float64\n",
      "minimumwage                           object\n",
      "officiallanguage                      object\n",
      "outofpockethealthexpenditure         float64\n",
      "physiciansperthousand                float64\n",
      "population                           float64\n",
      "populationlaborforceparticipation    float64\n",
      "taxrevenue                           float64\n",
      "totaltaxrate                         float64\n",
      "unemploymentrate                     float64\n",
      "urban_population                     float64\n",
      "coordinates                           object\n",
      "latitude                             float64\n",
      "longitude                            float64\n",
      "dtype: object\n"
     ]
    }
   ],
   "source": [
    "def convertir_a_numerico(dataframe, columnas):\n",
    "    for columna in columnas:\n",
    "        # Verificar si la columna es de tipo objeto (cadena) antes de aplicar el reemplazo\n",
    "        if dataframe[columna].dtype == 'O':\n",
    "            dataframe[columna] = pd.to_numeric(dataframe[columna].str.replace(',', '.'), errors='coerce')\n",
    "\n",
    "# Lista de columnas que se deben modificar\n",
    "lista_col = ['landarea', 'armedforcessize', 'birthrate', 'co2-emissions', 'cpi',\n",
    "             'gdp', 'population', 'urban_population', 'latitude', 'longitude', 'density']\n",
    "\n",
    "# Aplicar la función a las columnas deseadas en tu propio DataFrame\n",
    "convertir_a_numerico(data3, lista_col)\n",
    "\n",
    "# Mostrar el DataFrame después del cambio\n",
    "print(\"\\nDataFrame después del cambio:\")\n",
    "print(data3)\n",
    "\n",
    "# Verificar tipos de datos después del cambio\n",
    "print(\"\\nTipos de datos después del cambio:\")\n",
    "print(data3.dtypes)\n"
   ]
  },
  {
   "cell_type": "code",
   "execution_count": 28,
   "metadata": {},
   "outputs": [
    {
     "name": "stdout",
     "output_type": "stream",
     "text": [
      "<class 'pandas.core.frame.DataFrame'>\n",
      "Int64Index: 195 entries, 0 to 194\n",
      "Data columns (total 36 columns):\n",
      " #   Column                             Non-Null Count  Dtype  \n",
      "---  ------                             --------------  -----  \n",
      " 0   country                            195 non-null    object \n",
      " 1   density                            195 non-null    float64\n",
      " 2   abbreviation                       188 non-null    object \n",
      " 3   agriculturalland                   188 non-null    float64\n",
      " 4   landarea                           165 non-null    float64\n",
      " 5   armedforcessize                    166 non-null    float64\n",
      " 6   birthrate                          189 non-null    float64\n",
      " 7   callingcode                        194 non-null    float64\n",
      " 8   capital/majorcity                  192 non-null    object \n",
      " 9   co2-emissions                      183 non-null    float64\n",
      " 10  cpi                                175 non-null    float64\n",
      " 11  cpichange                          179 non-null    float64\n",
      " 12  currency-code                      180 non-null    object \n",
      " 13  fertilityrate                      188 non-null    float64\n",
      " 14  forestedarea                       188 non-null    float64\n",
      " 15  gasolineprice                      175 non-null    object \n",
      " 16  gdp                                0 non-null      float64\n",
      " 17  grossprimaryeducationenrollment    188 non-null    float64\n",
      " 18  grosstertiaryeducationenrollment   183 non-null    float64\n",
      " 19  infantmortality                    189 non-null    float64\n",
      " 20  largestcity                        189 non-null    object \n",
      " 21  lifeexpectancy                     187 non-null    float64\n",
      " 22  maternalmortalityratio             181 non-null    float64\n",
      " 23  minimumwage                        150 non-null    object \n",
      " 24  officiallanguage                   190 non-null    object \n",
      " 25  outofpockethealthexpenditure       188 non-null    float64\n",
      " 26  physiciansperthousand              188 non-null    float64\n",
      " 27  population                         39 non-null     float64\n",
      " 28  populationlaborforceparticipation  176 non-null    float64\n",
      " 29  taxrevenue                         169 non-null    float64\n",
      " 30  totaltaxrate                       183 non-null    float64\n",
      " 31  unemploymentrate                   176 non-null    float64\n",
      " 32  urban_population                   45 non-null     float64\n",
      " 33  coordinates                        195 non-null    object \n",
      " 34  latitude                           0 non-null      float64\n",
      " 35  longitude                          0 non-null      float64\n",
      "dtypes: float64(27), object(9)\n",
      "memory usage: 56.4+ KB\n"
     ]
    }
   ],
   "source": [
    "data3.info()"
   ]
  },
  {
   "cell_type": "code",
   "execution_count": null,
   "metadata": {},
   "outputs": [],
   "source": [
    "# 2. Crea una función para añadir una nueva columna llamada 'Continent' al DataFrame para indicar a qué continente pertenece cada país.\n"
   ]
  },
  {
   "cell_type": "code",
   "execution_count": null,
   "metadata": {},
   "outputs": [],
   "source": [
    "# 3. Guarda el DataFrame después de los cambios creados después de los dos ejercicios anteriores para usarlo en el pairprogramming de mañana."
   ]
  },
  {
   "cell_type": "markdown",
   "metadata": {},
   "source": [
    "Ejercicios groupby"
   ]
  },
  {
   "cell_type": "code",
   "execution_count": null,
   "metadata": {},
   "outputs": [],
   "source": [
    "# 1. ¿Cuál es la densidad de población promedio por continente?\n"
   ]
  },
  {
   "cell_type": "code",
   "execution_count": null,
   "metadata": {},
   "outputs": [],
   "source": [
    "# 2. ¿Cuál es la esperanza de vida promedio por idioma oficial? Agrupa los países por idioma oficial y calcula la esperanza de vida promedio.\n"
   ]
  },
  {
   "cell_type": "code",
   "execution_count": null,
   "metadata": {},
   "outputs": [],
   "source": [
    "# 3. ¿Cuál es la tasa de mortalidad infantil promedio por moneda?\n"
   ]
  },
  {
   "cell_type": "code",
   "execution_count": null,
   "metadata": {},
   "outputs": [],
   "source": [
    "# 4. ¿Cuál es el salario mínimo por continente?"
   ]
  },
  {
   "cell_type": "code",
   "execution_count": null,
   "metadata": {},
   "outputs": [],
   "source": [
    "# 5. ¿Cuál es la tasa de impuestos total máxima por densidad de población por continente? Para solucionar este ejercicio puedes:\n",
    "    # Primero, necesitas calcular la tasa de impuestos total para cada continente. \n",
    "    # La tasa de impuestos total se encuentra en la columna \"total_tax_rate\".\n",
    "    # Luego, calcula la densidad de población para cada continente. La densidad de población se encuentra en la columna \"density\".\n",
    "    # Ahora, divide la tasa de impuestos total entre la densidad de población para obtener la tasa de impuestos total \n",
    "    # por persona por kilómetro cuadrado.\n",
    "    # Encuentra el país que tiene el valor más alto en esta nueva columna calculada."
   ]
  },
  {
   "cell_type": "code",
   "execution_count": null,
   "metadata": {},
   "outputs": [],
   "source": [
    "# 6. ¿Cuál es el porcentaje de población urbana promedio por continente?"
   ]
  }
 ],
 "metadata": {
  "kernelspec": {
   "display_name": "base",
   "language": "python",
   "name": "python3"
  },
  "language_info": {
   "codemirror_mode": {
    "name": "ipython",
    "version": 3
   },
   "file_extension": ".py",
   "mimetype": "text/x-python",
   "name": "python",
   "nbconvert_exporter": "python",
   "pygments_lexer": "ipython3",
   "version": "3.9.7"
  }
 },
 "nbformat": 4,
 "nbformat_minor": 2
}
