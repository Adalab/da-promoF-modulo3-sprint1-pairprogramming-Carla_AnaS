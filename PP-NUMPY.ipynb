{
 "cells": [
  {
   "cell_type": "code",
   "execution_count": 1,
   "metadata": {},
   "outputs": [],
   "source": [
    "import numpy as np"
   ]
  },
  {
   "cell_type": "code",
   "execution_count": 6,
   "metadata": {},
   "outputs": [
    {
     "name": "stdout",
     "output_type": "stream",
     "text": [
      "Array completo:\n",
      "[78 96 76 30 50 68 28 26 79 64 56 41 43 84 13 19 46 98 62 47 64 99 16 21\n",
      " 51 99 90 15 92 44 78 44 81 48 21 78 47 88 19 17 52 96 67 64 88 16 59 71\n",
      " 93 66]\n",
      "\n",
      "Elementos en posiciones múltiplos de 5:\n",
      "[50 64 13 47 51 44 21 17 88 66]\n"
     ]
    }
   ],
   "source": [
    "# Crea un array 1D con 50 valores aleatorio del 10 al 99. Accede a los elementos en las posiciones múltiplos de 5.\n",
    "\n",
    "\n",
    "# Crear un array 1D con 50 valores aleatorios del 10 al 99\n",
    "array_1 = np.random.randint(10, 100, size=50)\n",
    "\n",
    "# Acceder a los elementos en las posiciones múltiplos de 5 \n",
    "elementos_multiplos_de_5 = array_1[4::5]\n",
    "\n",
    "print(\"Array completo:\")\n",
    "print(array_1)\n",
    "print(\"\\nElementos en posiciones múltiplos de 5:\")\n",
    "print(elementos_multiplos_de_5)\n"
   ]
  },
  {
   "cell_type": "code",
   "execution_count": 13,
   "metadata": {},
   "outputs": [
    {
     "name": "stdout",
     "output_type": "stream",
     "text": [
      "[ 3  4  0  5  3 10 20 12  7  9 18 16  4 17 13 13 18  3  1 16 14 11 11  3\n",
      " 13 10  2  9  9  7]\n",
      "[ 4  5 10 12  9 16 17 13  3 16 11  3 10  9  7]\n"
     ]
    }
   ],
   "source": [
    "# Crea un array 1D con 30 valores del 1 al 20 (ambos incluidos). Utiliza indexación para obtener los elementos en las posiciones impares.\n",
    "\n",
    "array_2 = np.random.randint(0, 21, size=30)\n",
    "print(array_2)\n",
    "posicion_impar= array_2[1::2]\n",
    "print(posicion_impar)"
   ]
  },
  {
   "cell_type": "code",
   "execution_count": 45,
   "metadata": {},
   "outputs": [
    {
     "name": "stdout",
     "output_type": "stream",
     "text": [
      "[4.05 4.22 4.62 4.93 4.13 4.08]\n"
     ]
    }
   ],
   "source": [
    "# Crea un array 2D de forma (4, 6) con números aleatorios decimales (no deben estar comprendidos solo entre 0 y 1). \n",
    "# Accede a la última fila de la matriz. Los decimales deben estar redondeados a 2 decimales.\n",
    "\n",
    "array_3 = np.empty((4,6)).round(2) + 4\n",
    "print(array_3[-1])\n"
   ]
  },
  {
   "cell_type": "code",
   "execution_count": 40,
   "metadata": {},
   "outputs": [
    {
     "name": "stdout",
     "output_type": "stream",
     "text": [
      "[[0.84 0.01 0.14 0.57]\n",
      " [0.53 0.67 0.52 0.69]\n",
      " [0.03 0.74 0.23 0.04]\n",
      " [0.09 0.6  0.65 0.03]\n",
      " [0.47 0.4  0.05 0.22]\n",
      " [0.62 0.93 0.13 0.08]]\n",
      "[0.01 0.67 0.74 0.6  0.4  0.93]\n"
     ]
    }
   ],
   "source": [
    "# Crea un array NumPy 2D de forma (6, 4) con valores decimales entre 0 y 1. \n",
    "# Accede a la segunda columna de la matriz. Los números deben estar redondeados a 2 decimales.\n",
    "\n",
    "array_4 = np.random.rand(6,4).round(2)\n",
    "print(array_4)\n",
    "print(array_4[0:6,1])\n",
    "\n"
   ]
  },
  {
   "cell_type": "code",
   "execution_count": 44,
   "metadata": {},
   "outputs": [
    {
     "name": "stdout",
     "output_type": "stream",
     "text": [
      "[ 41   7 -43  22 -15 -38 -35  46  -1  24  -7 -34 -24  37  36 -33  35  -4\n",
      "  28   1  31  -8  13 -14  28  -7  39  31  39 -23]\n"
     ]
    },
    {
     "data": {
      "text/plain": [
       "array([-43, -15, -38, -35,  -1,  -7, -34, -24, -33,  -4,  -8, -14,  -7,\n",
       "       -23])"
      ]
     },
     "execution_count": 44,
     "metadata": {},
     "output_type": "execute_result"
    }
   ],
   "source": [
    "# Crea un array 1D con 30 valores enteros aleatorios entre -50 y 50. Extrae los valores negativos.\n",
    "array_5 = np.random.randint(-50, 50, size=30)\n",
    "print(array_5)\n",
    "np.where(array_5 < 0, 'negativo', 'positivo')\n",
    "array_5[array_5<0]"
   ]
  },
  {
   "cell_type": "code",
   "execution_count": null,
   "metadata": {},
   "outputs": [],
   "source": [
    "# Crea un array 1D con 10 valores entre 0 y 1. Redondea los decimales a 2. Obtén los elementos cuyo valor es mayor que 0.5. \n",
    "# ¿En que posición/es están esos elementos?\n",
    "\n"
   ]
  },
  {
   "cell_type": "code",
   "execution_count": null,
   "metadata": {},
   "outputs": [],
   "source": [
    "# BONUS: Crea un array 3D de forma (2, 3, 5) y 50 elementos con números enteros entre 0 y 100 (ambos incluidos). \n",
    "# Reemplaza los elementos en posiciones múltiplos de 3 por 0."
   ]
  },
  {
   "cell_type": "code",
   "execution_count": null,
   "metadata": {},
   "outputs": [],
   "source": [
    "# Crea un array 3D de forma (3, 4, 5) con valores enteros del 1 al 60 (sin incluir). Utiliza reshape para convertirlo en un array 2D."
   ]
  },
  {
   "cell_type": "code",
   "execution_count": null,
   "metadata": {},
   "outputs": [],
   "source": [
    "# Utiliza el array 3D del ejercicio 2 de reshape. Utiliza transpose para permutar los ejes y obtener un nuevo array con forma (5, 4, 3)."
   ]
  }
 ],
 "metadata": {
  "kernelspec": {
   "display_name": "base",
   "language": "python",
   "name": "python3"
  },
  "language_info": {
   "codemirror_mode": {
    "name": "ipython",
    "version": 3
   },
   "file_extension": ".py",
   "mimetype": "text/x-python",
   "name": "python",
   "nbconvert_exporter": "python",
   "pygments_lexer": "ipython3",
   "version": "3.9.7"
  }
 },
 "nbformat": 4,
 "nbformat_minor": 2
}
