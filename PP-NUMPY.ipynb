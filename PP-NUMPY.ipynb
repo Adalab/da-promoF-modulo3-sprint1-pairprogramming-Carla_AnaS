{
 "cells": [
  {
   "cell_type": "code",
   "execution_count": 3,
   "metadata": {},
   "outputs": [],
   "source": [
    "import numpy as np"
   ]
  },
  {
   "cell_type": "markdown",
   "metadata": {},
   "source": [
    "Creación y Indexación:"
   ]
  },
  {
   "cell_type": "code",
   "execution_count": 4,
   "metadata": {},
   "outputs": [
    {
     "name": "stdout",
     "output_type": "stream",
     "text": [
      "Array completo:\n",
      "[35 75 36 60 98 23 77 74 20 13 97 49 89 54 22 94 86 38 22 33 13 96 35 18\n",
      " 18 85 92 36 54 47 11 90 99 89 78 67 66 35 78 90 84 73 29 48 62 77 62 94\n",
      " 73 85]\n",
      "\n",
      "Elementos en posiciones múltiplos de 5:\n",
      "[98 13 22 33 18 47 78 90 62 85]\n"
     ]
    }
   ],
   "source": [
    "# 1. Crea un array 1D con 50 valores aleatorio del 10 al 99. Accede a los elementos en las posiciones múltiplos de 5.\n",
    "\n",
    "# Crear un array 1D con 50 valores aleatorios del 10 al 99\n",
    "array_1 = np.random.randint(10, 100, size=50)\n",
    "\n",
    "# Acceder a los elementos en las posiciones múltiplos de 5 \n",
    "elementos_multiplos_de_5 = array_1[4::5]\n",
    "\n",
    "print(\"Array completo:\")\n",
    "print(array_1)\n",
    "print(\"\\nElementos en posiciones múltiplos de 5:\")\n",
    "print(elementos_multiplos_de_5)\n"
   ]
  },
  {
   "cell_type": "code",
   "execution_count": 5,
   "metadata": {},
   "outputs": [
    {
     "name": "stdout",
     "output_type": "stream",
     "text": [
      "[ 4  8  3 13 14  5 10  4 18 13  4  3  3  7  8 18 16  1  9 19 18  4  4 15\n",
      "  7 16  9 19  2 19]\n",
      "[ 8 13  5  4 13  3  7 18  1 19  4 15 16 19 19]\n"
     ]
    }
   ],
   "source": [
    "# 2. Crea un array 1D con 30 valores del 1 al 20 (ambos incluidos). Utiliza indexación para obtener los elementos en las posiciones impares.\n",
    "\n",
    "array_2 = np.random.randint(0, 21, size=30)\n",
    "print(array_2)\n",
    "posicion_impar= array_2[1::2]\n",
    "print(posicion_impar)"
   ]
  },
  {
   "cell_type": "code",
   "execution_count": 6,
   "metadata": {},
   "outputs": [
    {
     "name": "stdout",
     "output_type": "stream",
     "text": [
      "[4. 4. 4. 4. 4. 4.]\n"
     ]
    }
   ],
   "source": [
    "# 3. Crea un array 2D de forma (4, 6) con números aleatorios decimales (no deben estar comprendidos solo entre 0 y 1). \n",
    "# Accede a la última fila de la matriz. Los decimales deben estar redondeados a 2 decimales.\n",
    "\n",
    "array_3 = np.empty((4,6)).round(2) + 4\n",
    "print(array_3[-1])\n"
   ]
  },
  {
   "cell_type": "code",
   "execution_count": 7,
   "metadata": {},
   "outputs": [
    {
     "name": "stdout",
     "output_type": "stream",
     "text": [
      "[[0.27 0.14 0.18 0.37]\n",
      " [0.08 0.28 0.65 0.54]\n",
      " [0.02 0.42 0.19 0.49]\n",
      " [0.22 0.22 0.08 0.5 ]\n",
      " [0.8  0.66 0.3  0.06]\n",
      " [0.59 0.07 0.55 0.75]]\n",
      "[0.14 0.28 0.42 0.22 0.66 0.07]\n"
     ]
    }
   ],
   "source": [
    "# 4. Crea un array NumPy 2D de forma (6, 4) con valores decimales entre 0 y 1. \n",
    "# Accede a la segunda columna de la matriz. Los números deben estar redondeados a 2 decimales.\n",
    "\n",
    "array_4 = np.random.rand(6,4).round(2)\n",
    "print(array_4)\n",
    "print(array_4[0:6,1])\n",
    "\n"
   ]
  },
  {
   "cell_type": "code",
   "execution_count": 8,
   "metadata": {},
   "outputs": [
    {
     "name": "stdout",
     "output_type": "stream",
     "text": [
      "[-49   1  42 -43  43  13 -19 -22 -46  35   4  31  -6  23 -46 -40  41   4\n",
      "   9 -16  47  35  37 -26 -41   4   4 -19  31  47]\n"
     ]
    },
    {
     "data": {
      "text/plain": [
       "array([-49, -43, -19, -22, -46,  -6, -46, -40, -16, -26, -41, -19])"
      ]
     },
     "execution_count": 8,
     "metadata": {},
     "output_type": "execute_result"
    }
   ],
   "source": [
    "# 5. Crea un array 1D con 30 valores enteros aleatorios entre -50 y 50. Extrae los valores negativos.\n",
    "array_5 = np.random.randint(-50, 50, size=30)\n",
    "print(array_5)\n",
    "np.where(array_5 < 0, 'negativo', 'positivo')\n",
    "array_5[array_5<0]"
   ]
  },
  {
   "cell_type": "code",
   "execution_count": 20,
   "metadata": {},
   "outputs": [
    {
     "name": "stdout",
     "output_type": "stream",
     "text": [
      "[0.03 0.97 0.77 0.66 0.04 0.91 0.36 0.21 0.59 0.39]\n",
      "[0.97 0.77 0.66 0.91 0.59]\n",
      "(array([1, 2, 3, 5, 8]),)\n"
     ]
    }
   ],
   "source": [
    "# 6. Crea un array 1D con 10 valores entre 0 y 1. Redondea los decimales a 2. Obtén los elementos cuyo valor es mayor que 0.5. \n",
    "# ¿En que posición/es están esos elementos?\n",
    "array_6 = np.random.rand(10).round(2)\n",
    "print(array_6)\n",
    "posiciones = array_6[array_6>0.5]\n",
    "print(posiciones)\n",
    "posiciones2 = np.where(array_6>0.5)\n",
    "print(posiciones2)"
   ]
  },
  {
   "cell_type": "code",
   "execution_count": null,
   "metadata": {},
   "outputs": [],
   "source": [
    "#7. "
   ]
  },
  {
   "cell_type": "code",
   "execution_count": 10,
   "metadata": {},
   "outputs": [],
   "source": [
    "# 8. BONUS: Crea un array 3D de forma (2, 3, 5) y 50 elementos con números enteros entre 0 y 100 (ambos incluidos). \n",
    "# Reemplaza los elementos en posiciones múltiplos de 3 por 0. AMBAS"
   ]
  },
  {
   "cell_type": "markdown",
   "metadata": {},
   "source": [
    "Ejercicios con reshape"
   ]
  },
  {
   "cell_type": "code",
   "execution_count": null,
   "metadata": {},
   "outputs": [],
   "source": [
    "#1."
   ]
  },
  {
   "cell_type": "code",
   "execution_count": 32,
   "metadata": {},
   "outputs": [
    {
     "name": "stdout",
     "output_type": "stream",
     "text": [
      "[[[ 1  2  3  4  5]\n",
      "  [ 6  7  8  9 10]\n",
      "  [11 12 13 14 15]\n",
      "  [16 17 18 19 20]]\n",
      "\n",
      " [[21 22 23 24 25]\n",
      "  [26 27 28 29 30]\n",
      "  [31 32 33 34 35]\n",
      "  [36 37 38 39 40]]\n",
      "\n",
      " [[41 42 43 44 45]\n",
      "  [46 47 48 49 50]\n",
      "  [51 52 53 54 55]\n",
      "  [56 57 58 59 60]]]\n",
      "[[ 1  2  3  4  5  6  7  8  9 10 11 12 13 14 15 16 17 18 19 20 21 22 23 24\n",
      "  25 26 27 28 29 30]\n",
      " [31 32 33 34 35 36 37 38 39 40 41 42 43 44 45 46 47 48 49 50 51 52 53 54\n",
      "  55 56 57 58 59 60]]\n"
     ]
    }
   ],
   "source": [
    "# 2. Crea un array 3D de forma (3, 4, 5) con valores enteros del 1 al 60 (sin incluir). \n",
    "# Utiliza reshape para convertirlo en un array 2D.\n",
    "array_7 = np.arange(1, 61).reshape(3, 4, 5)\n",
    "print(array_7)\n",
    "array_7_reshape = np.reshape(array_7, (2, 30)) #tener en cuenta el n de valores para la dimesion nueva\n",
    "print(array_7_reshape)"
   ]
  },
  {
   "cell_type": "code",
   "execution_count": null,
   "metadata": {},
   "outputs": [],
   "source": [
    "# 3. "
   ]
  },
  {
   "cell_type": "markdown",
   "metadata": {},
   "source": [
    "Ejercicios con transpose"
   ]
  },
  {
   "cell_type": "code",
   "execution_count": 34,
   "metadata": {},
   "outputs": [
    {
     "name": "stdout",
     "output_type": "stream",
     "text": [
      "[[[ 1  2  3  4  5]\n",
      "  [ 6  7  8  9 10]\n",
      "  [11 12 13 14 15]\n",
      "  [16 17 18 19 20]]\n",
      "\n",
      " [[21 22 23 24 25]\n",
      "  [26 27 28 29 30]\n",
      "  [31 32 33 34 35]\n",
      "  [36 37 38 39 40]]\n",
      "\n",
      " [[41 42 43 44 45]\n",
      "  [46 47 48 49 50]\n",
      "  [51 52 53 54 55]\n",
      "  [56 57 58 59 60]]]\n",
      "[[[ 1 21 41]\n",
      "  [ 6 26 46]\n",
      "  [11 31 51]\n",
      "  [16 36 56]]\n",
      "\n",
      " [[ 2 22 42]\n",
      "  [ 7 27 47]\n",
      "  [12 32 52]\n",
      "  [17 37 57]]\n",
      "\n",
      " [[ 3 23 43]\n",
      "  [ 8 28 48]\n",
      "  [13 33 53]\n",
      "  [18 38 58]]\n",
      "\n",
      " [[ 4 24 44]\n",
      "  [ 9 29 49]\n",
      "  [14 34 54]\n",
      "  [19 39 59]]\n",
      "\n",
      " [[ 5 25 45]\n",
      "  [10 30 50]\n",
      "  [15 35 55]\n",
      "  [20 40 60]]]\n"
     ]
    }
   ],
   "source": [
    "# 4. Utiliza el array 3D del ejercicio 2 de reshape. \n",
    "# Utiliza transpose para permutar los ejes y obtener un nuevo array con forma (5, 4, 3).\n",
    "array_7_transpose = np.transpose(array_7, (2, 1, 0))\n",
    "print(array_7)\n",
    "print(array_7_transpose)"
   ]
  },
  {
   "cell_type": "code",
   "execution_count": null,
   "metadata": {},
   "outputs": [],
   "source": [
    "# 5. "
   ]
  },
  {
   "cell_type": "markdown",
   "metadata": {},
   "source": [
    "Preguntas teóricas:\n",
    "\n",
    "1. ¿Qué diferencia existe entre el reshape y el transpose?\n",
    "reshape cambia la forma del array y transpose transpone las dimensiones del array\n",
    "\n",
    "2. ¿Y entre el transpose y el swapaxes?\n",
    "swapaxes intercambia dos ejes pero no puedes especificar el orden, con transpose sí puedes"
   ]
  },
  {
   "cell_type": "markdown",
   "metadata": {},
   "source": [
    "Funciones Aritméticas y Estadísticas"
   ]
  },
  {
   "cell_type": "code",
   "execution_count": 37,
   "metadata": {},
   "outputs": [
    {
     "data": {
      "text/plain": [
       "array([[[0.3, 0.3, 0.9, 0.7, 0.7],\n",
       "        [0.6, 0.4, 0.5, 0.2, 0.1],\n",
       "        [0.9, 0.4, 0.6, 0.6, 0.3]],\n",
       "\n",
       "       [[1. , 0.8, 0.3, 0.8, 0.3],\n",
       "        [0.9, 0.6, 0.8, 0.4, 0.9],\n",
       "        [0.6, 1. , 0.3, 0.3, 0.1]]])"
      ]
     },
     "execution_count": 37,
     "metadata": {},
     "output_type": "execute_result"
    }
   ],
   "source": [
    "# 1. Crea un array de tres 3D con elementos entre el 0 y 1 de forma (2, 3, 5) \n",
    "# cuyos valores solo tengan 1 decimal.\n",
    "array_8 = np.random.rand(2,3,5).round(1)\n",
    "array_8\n"
   ]
  },
  {
   "cell_type": "code",
   "execution_count": 14,
   "metadata": {},
   "outputs": [],
   "source": [
    "# 2. Crea un array vacío con la misma forma y dimensiones que el array creado anteriormente. Vamos a reemplazar los valores de la matriz vacía que nos acabamos de crear pero basándonos en los valores del primer array bajo las siguientes condiciones:\n",
    "# Si el valor del array es igual que la media, se reemplaza por \"A\".\n",
    "# Si el valor del array es mayor que la media, se reemplaza por \"B\".\n",
    "# Si el valor del array es menor que la media, se reemplaza por \"C\".\n",
    "# Si el valor es igual que el máximo, se reemplaza por \"D\".\n",
    "# Si el valor es igual que el mínimo, se reemplaza por \"E\".\n",
    "# AMBAS"
   ]
  }
 ],
 "metadata": {
  "kernelspec": {
   "display_name": "base",
   "language": "python",
   "name": "python3"
  },
  "language_info": {
   "codemirror_mode": {
    "name": "ipython",
    "version": 3
   },
   "file_extension": ".py",
   "mimetype": "text/x-python",
   "name": "python",
   "nbconvert_exporter": "python",
   "pygments_lexer": "ipython3",
   "version": "3.9.7"
  }
 },
 "nbformat": 4,
 "nbformat_minor": 2
}
