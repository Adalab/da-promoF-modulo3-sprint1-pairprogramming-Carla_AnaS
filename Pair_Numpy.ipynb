{
 "cells": [
  {
   "cell_type": "code",
   "execution_count": 3,
   "metadata": {},
   "outputs": [],
   "source": [
    "import numpy as np"
   ]
  },
  {
   "cell_type": "markdown",
   "metadata": {},
   "source": [
    "1. Crea un array 1D con 50 valores aleatorio del 10 al 99. Accede a los elementos en las posiciones múltiplos de 5."
   ]
  },
  {
   "cell_type": "code",
   "execution_count": 2,
   "metadata": {},
   "outputs": [
    {
     "name": "stdout",
     "output_type": "stream",
     "text": [
      "[77 46 56 51 98 56 78 37 12 74]\n"
     ]
    }
   ],
   "source": [
    "array1 = np.random.randint(10, 100, 50)\n",
    "array1\n",
    "\n",
    "print(array1[::5])"
   ]
  },
  {
   "cell_type": "markdown",
   "metadata": {},
   "source": [
    "2. Crea un array 1D con 30 valores del 1 al 20 (ambos incluidos). Utiliza indexación para obtener los elementos en las posiciones impares."
   ]
  },
  {
   "cell_type": "code",
   "execution_count": 4,
   "metadata": {},
   "outputs": [
    {
     "name": "stdout",
     "output_type": "stream",
     "text": [
      "[18  7 19 11 19 12 18  8  6 10 16 17  2 14 11]\n"
     ]
    }
   ],
   "source": [
    "array2 = np.random.randint(1, 21, 30)\n",
    "array2\n",
    "\n",
    "print(array2[1::2])"
   ]
  },
  {
   "cell_type": "markdown",
   "metadata": {},
   "source": [
    "3. Crea un array 2D de forma (4, 6) con números aleatorios decimales (no deben estar comprendidos solo entre 0 y 1). Accede a la última fila de la matriz. Los decimales deben estar redondeados a 2 decimales."
   ]
  },
  {
   "cell_type": "code",
   "execution_count": 5,
   "metadata": {},
   "outputs": [
    {
     "name": "stdout",
     "output_type": "stream",
     "text": [
      "[4. 4. 4. 4. 4. 4.]\n"
     ]
    }
   ],
   "source": [
    "array_3 = np.empty((4, 6)).round(2) + 4\n",
    "print(array_3[-1])"
   ]
  },
  {
   "cell_type": "markdown",
   "metadata": {},
   "source": [
    "4. Crea un array NumPy 2D de forma (6, 4) con valores decimales entre 0 y 1. Accede a la segunda columna de la matriz. Los números deben estar redondeados a 2 decimales.\n"
   ]
  },
  {
   "cell_type": "code",
   "execution_count": 6,
   "metadata": {},
   "outputs": [
    {
     "name": "stdout",
     "output_type": "stream",
     "text": [
      "[[0.04 0.92 0.59 0.68]\n",
      " [0.24 0.41 0.75 0.07]\n",
      " [0.97 0.86 0.35 0.18]\n",
      " [0.79 0.78 0.07 0.64]\n",
      " [0.56 0.51 0.47 0.24]\n",
      " [0.1  0.55 0.07 0.39]]\n",
      "[0.92 0.41 0.86 0.78 0.51 0.55]\n"
     ]
    }
   ],
   "source": [
    "array_4 = np.random.rand(6, 4).round(2)\n",
    "print(array_4)\n",
    "\n",
    "print(array_4[0:6, 1])"
   ]
  },
  {
   "cell_type": "markdown",
   "metadata": {},
   "source": [
    "5. Crea un array 1D con 30 valores enteros aleatorios entre -50 y 50. Extrae los valores negativos."
   ]
  },
  {
   "cell_type": "code",
   "execution_count": 7,
   "metadata": {},
   "outputs": [
    {
     "name": "stdout",
     "output_type": "stream",
     "text": [
      "[ 46  27 -50 -35  36  -5   9  22 -15  -8 -50  26  24 -42  15  34 -21 -29\n",
      " -39 -17 -35   8 -37 -38  13 -19  39  17 -32  28]\n"
     ]
    },
    {
     "data": {
      "text/plain": [
       "array([-50, -35,  -5, -15,  -8, -50, -42, -21, -29, -39, -17, -35, -37,\n",
       "       -38, -19, -32])"
      ]
     },
     "execution_count": 7,
     "metadata": {},
     "output_type": "execute_result"
    }
   ],
   "source": [
    "array_5 = np.random.randint(-50, 50, size=30)\n",
    "print(array_5)\n",
    "np.where(array_5 < 0, \"negativo\", \"positivo\")\n",
    "array_5[array_5 < 0]"
   ]
  },
  {
   "cell_type": "markdown",
   "metadata": {},
   "source": [
    "6. Crea un array 1D con 10 valores entre 0 y 1. Redondea los decimales a 2. Obtén los elementos cuyo valor es mayor que 0.5. ¿En que posición/es están esos elementos?"
   ]
  },
  {
   "cell_type": "code",
   "execution_count": 8,
   "metadata": {},
   "outputs": [
    {
     "name": "stdout",
     "output_type": "stream",
     "text": [
      "[0.14 0.79 0.13 0.05 0.46 0.11 0.66 0.46 0.92 0.7 ]\n",
      "[0.79 0.66 0.92 0.7 ]\n",
      "(array([1, 6, 8, 9], dtype=int64),)\n"
     ]
    }
   ],
   "source": [
    "array_6 = np.random.rand(10).round(2)\n",
    "print(array_6)\n",
    "posiciones = array_6[array_6 > 0.5]\n",
    "print(posiciones)\n",
    "posiciones2 = np.where(array_6 > 0.5)\n",
    "print(posiciones2)"
   ]
  },
  {
   "cell_type": "markdown",
   "metadata": {},
   "source": [
    "7. Crea un array 1D con 40 valores del 1 al 100 (ambos incluidos). Obtén los elementos que son divisibles por 3 y por 4."
   ]
  },
  {
   "cell_type": "code",
   "execution_count": 9,
   "metadata": {},
   "outputs": [
    {
     "name": "stdout",
     "output_type": "stream",
     "text": [
      "[ 1  2  3  4  5  6  7  8  9 10 11 12 13 14 15 16 17 18 19 20 21 22 23 24\n",
      " 25 26 27 28 29 30 31 32 33 34 35 36 37 38 39 40]\n",
      "[12 24 36]\n"
     ]
    }
   ],
   "source": [
    "array_7 = np.arange(1, 101)[:40]\n",
    "elementos_divisibles = array_7[(array_7 % 3 == 0) & (array_7 % 4 == 0)]\n",
    "\n",
    "print(array_7)\n",
    "print(elementos_divisibles)"
   ]
  },
  {
   "cell_type": "markdown",
   "metadata": {},
   "source": [
    "8. BONUS: Crea un array 3D de forma (2, 3, 5) y 50 elementos con números enteros entre 0 y 100 (ambos incluidos). Reemplaza los elementos en posiciones múltiplos de 3 por 0."
   ]
  },
  {
   "cell_type": "code",
   "execution_count": null,
   "metadata": {},
   "outputs": [],
   "source": []
  },
  {
   "cell_type": "markdown",
   "metadata": {},
   "source": [
    "Reshape y Transpose:"
   ]
  },
  {
   "cell_type": "markdown",
   "metadata": {},
   "source": [
    "1. Crea un array 3D de forma (2, 3, 4) con valores aleatorios entre 1 y 100 (ambos inclusive). Utiliza reshape para convertirlo en un array 2D. Deberás pensar en la forma que es correcta para hacer este cambio."
   ]
  },
  {
   "cell_type": "code",
   "execution_count": 10,
   "metadata": {},
   "outputs": [
    {
     "name": "stdout",
     "output_type": "stream",
     "text": [
      "[[[55 23 67 78]\n",
      "  [94 74 11 10]\n",
      "  [70 47 92 57]]\n",
      "\n",
      " [[80 29 41 78]\n",
      "  [72 93  8 40]\n",
      "  [71 74 86 29]]]\n",
      "[[55 23 67 78 94 74 11 10 70 47 92 57]\n",
      " [80 29 41 78 72 93  8 40 71 74 86 29]]\n"
     ]
    }
   ],
   "source": [
    "array_3 = np.random.randint(1, 101, size=(2, 3, 4))\n",
    "print(array_3)\n",
    "\n",
    "array_2 = array_3.reshape((2, -1))\n",
    "print(array_2)"
   ]
  },
  {
   "cell_type": "markdown",
   "metadata": {},
   "source": [
    "2. Crea un array 3D de forma (3, 4, 5) con valores enteros del 1 al 60 (sin incluir). Utiliza reshape para convertirlo en un array 2D."
   ]
  },
  {
   "cell_type": "code",
   "execution_count": 11,
   "metadata": {},
   "outputs": [
    {
     "name": "stdout",
     "output_type": "stream",
     "text": [
      "[[[ 1  2  3  4  5]\n",
      "  [ 6  7  8  9 10]\n",
      "  [11 12 13 14 15]\n",
      "  [16 17 18 19 20]]\n",
      "\n",
      " [[21 22 23 24 25]\n",
      "  [26 27 28 29 30]\n",
      "  [31 32 33 34 35]\n",
      "  [36 37 38 39 40]]\n",
      "\n",
      " [[41 42 43 44 45]\n",
      "  [46 47 48 49 50]\n",
      "  [51 52 53 54 55]\n",
      "  [56 57 58 59 60]]]\n",
      "[[ 1  2  3  4  5  6  7  8  9 10 11 12 13 14 15 16 17 18 19 20 21 22 23 24\n",
      "  25 26 27 28 29 30]\n",
      " [31 32 33 34 35 36 37 38 39 40 41 42 43 44 45 46 47 48 49 50 51 52 53 54\n",
      "  55 56 57 58 59 60]]\n"
     ]
    }
   ],
   "source": [
    "array_7 = np.arange(1, 61).reshape(3, 4, 5)\n",
    "print(array_7)\n",
    "array_7_reshape = np.reshape(array_7, (2, 30))\n",
    "\n",
    "# tener en cuenta el n de valores para la dimesion nueva\n",
    "print(array_7_reshape)"
   ]
  },
  {
   "cell_type": "markdown",
   "metadata": {},
   "source": [
    "3. Crea un array 3D de forma (4, 3, 2) con valores aleatorios entre 0 y 1. Utiliza reshape para convertirlo en un array 2D."
   ]
  },
  {
   "cell_type": "code",
   "execution_count": 12,
   "metadata": {},
   "outputs": [
    {
     "name": "stdout",
     "output_type": "stream",
     "text": [
      "[[[0.24067876 0.05585396]\n",
      "  [0.86810534 0.90481016]\n",
      "  [0.68812959 0.2798366 ]]\n",
      "\n",
      " [[0.77019878 0.6259421 ]\n",
      "  [0.0980849  0.3661852 ]\n",
      "  [0.08211321 0.25678392]]\n",
      "\n",
      " [[0.92607835 0.40030613]\n",
      "  [0.33299553 0.51971955]\n",
      "  [0.90977558 0.69921797]]\n",
      "\n",
      " [[0.33920327 0.82977439]\n",
      "  [0.50934768 0.02795586]\n",
      "  [0.8601631  0.40279944]]]\n",
      "[[0.24067876 0.05585396 0.86810534 0.90481016 0.68812959 0.2798366 ]\n",
      " [0.77019878 0.6259421  0.0980849  0.3661852  0.08211321 0.25678392]\n",
      " [0.92607835 0.40030613 0.33299553 0.51971955 0.90977558 0.69921797]\n",
      " [0.33920327 0.82977439 0.50934768 0.02795586 0.8601631  0.40279944]]\n"
     ]
    }
   ],
   "source": [
    "array_3 = np.random.rand(4, 3, 2)\n",
    "print(array_3)\n",
    "array_2 = array_3.reshape((4, -1))\n",
    "print(array_2)"
   ]
  },
  {
   "cell_type": "markdown",
   "metadata": {},
   "source": [
    "Ejercicios con transpose:"
   ]
  },
  {
   "cell_type": "markdown",
   "metadata": {},
   "source": [
    "1. Utiliza el array 3D del ejercicio 2 de reshape. Utiliza transpose para permutar los ejes y obtener un nuevo array con forma (5, 4, 3)."
   ]
  },
  {
   "cell_type": "code",
   "execution_count": 13,
   "metadata": {},
   "outputs": [
    {
     "name": "stdout",
     "output_type": "stream",
     "text": [
      "[[[ 1  2  3  4  5]\n",
      "  [ 6  7  8  9 10]\n",
      "  [11 12 13 14 15]\n",
      "  [16 17 18 19 20]]\n",
      "\n",
      " [[21 22 23 24 25]\n",
      "  [26 27 28 29 30]\n",
      "  [31 32 33 34 35]\n",
      "  [36 37 38 39 40]]\n",
      "\n",
      " [[41 42 43 44 45]\n",
      "  [46 47 48 49 50]\n",
      "  [51 52 53 54 55]\n",
      "  [56 57 58 59 60]]]\n",
      "[[[ 1  2  3  4  5]\n",
      "  [ 6  7  8  9 10]\n",
      "  [11 12 13 14 15]\n",
      "  [16 17 18 19 20]]\n",
      "\n",
      " [[21 22 23 24 25]\n",
      "  [26 27 28 29 30]\n",
      "  [31 32 33 34 35]\n",
      "  [36 37 38 39 40]]\n",
      "\n",
      " [[41 42 43 44 45]\n",
      "  [46 47 48 49 50]\n",
      "  [51 52 53 54 55]\n",
      "  [56 57 58 59 60]]]\n",
      "[[[ 1 21 41]\n",
      "  [ 6 26 46]\n",
      "  [11 31 51]\n",
      "  [16 36 56]]\n",
      "\n",
      " [[ 2 22 42]\n",
      "  [ 7 27 47]\n",
      "  [12 32 52]\n",
      "  [17 37 57]]\n",
      "\n",
      " [[ 3 23 43]\n",
      "  [ 8 28 48]\n",
      "  [13 33 53]\n",
      "  [18 38 58]]\n",
      "\n",
      " [[ 4 24 44]\n",
      "  [ 9 29 49]\n",
      "  [14 34 54]\n",
      "  [19 39 59]]\n",
      "\n",
      " [[ 5 25 45]\n",
      "  [10 30 50]\n",
      "  [15 35 55]\n",
      "  [20 40 60]]]\n"
     ]
    }
   ],
   "source": [
    "array_7 = np.arange(1, 61).reshape(3, 4, 5)\n",
    "print(array_7)\n",
    "\n",
    "array_7_transpose = np.transpose(array_7, (2, 1, 0))\n",
    "print(array_7)\n",
    "print(array_7_transpose)"
   ]
  },
  {
   "cell_type": "markdown",
   "metadata": {},
   "source": [
    "5. Utiliza el array 3D del ejercicio 2 de reshape. Utiliza transpose para permutar los ejes y obtener un nuevo array con forma (5, 4, 3)."
   ]
  },
  {
   "cell_type": "code",
   "execution_count": 14,
   "metadata": {},
   "outputs": [
    {
     "name": "stdout",
     "output_type": "stream",
     "text": [
      "[[[8.01784516e-01 4.90236931e-01]\n",
      "  [3.16410150e-01 5.35553960e-02]\n",
      "  [5.85107558e-01 2.28141895e-01]]\n",
      "\n",
      " [[8.94954208e-01 5.05331786e-01]\n",
      "  [5.69799263e-01 1.63817996e-02]\n",
      "  [7.24169645e-01 2.27942566e-01]]\n",
      "\n",
      " [[5.05909162e-01 7.98463188e-01]\n",
      "  [2.07115501e-01 5.33386106e-01]\n",
      "  [6.32333176e-05 3.63571541e-01]]\n",
      "\n",
      " [[2.00188034e-01 2.63883171e-01]\n",
      "  [7.79901268e-01 9.39472037e-01]\n",
      "  [8.92642183e-03 1.90977042e-01]]]\n",
      "[[[8.01784516e-01 8.94954208e-01 5.05909162e-01 2.00188034e-01]\n",
      "  [4.90236931e-01 5.05331786e-01 7.98463188e-01 2.63883171e-01]]\n",
      "\n",
      " [[3.16410150e-01 5.69799263e-01 2.07115501e-01 7.79901268e-01]\n",
      "  [5.35553960e-02 1.63817996e-02 5.33386106e-01 9.39472037e-01]]\n",
      "\n",
      " [[5.85107558e-01 7.24169645e-01 6.32333176e-05 8.92642183e-03]\n",
      "  [2.28141895e-01 2.27942566e-01 3.63571541e-01 1.90977042e-01]]]\n"
     ]
    }
   ],
   "source": [
    "array_3 = np.random.rand(4, 3, 2)\n",
    "print(array_3)\n",
    "array_transpose = np.transpose(array_3, (1, 2, 0))\n",
    "print(array_transpose)"
   ]
  },
  {
   "cell_type": "markdown",
   "metadata": {},
   "source": [
    "Preguntas teóricas:\n",
    "\n",
    "1. ¿Qué diferencia existe entre el reshape y el transpose?\n",
    "reshape cambia la forma del array y transpose transpone las dimensiones del array\n",
    "\n",
    "2. ¿Y entre el transpose y el swapaxes?\n",
    "swapaxes intercambia dos ejes pero no puedes especificar el orden, con transpose sí puedes\n",
    "\n"
   ]
  },
  {
   "cell_type": "markdown",
   "metadata": {},
   "source": [
    "Funciones Aritméticas y Estadísticas"
   ]
  },
  {
   "cell_type": "markdown",
   "metadata": {},
   "source": [
    "1. Crea un array de tres 3D con elementos entre el 0 y 1 de forma (2, 3, 5) cuyos valores solo tengan 1 decimal."
   ]
  },
  {
   "cell_type": "code",
   "execution_count": 15,
   "metadata": {},
   "outputs": [
    {
     "data": {
      "text/plain": [
       "array([[[0.7, 0.5, 0. , 0.4, 0.5],\n",
       "        [0.7, 0.7, 0.8, 0.5, 0.1],\n",
       "        [0.7, 0.1, 0.1, 0.9, 0.3]],\n",
       "\n",
       "       [[0.4, 1. , 0.9, 0.7, 0.5],\n",
       "        [0.2, 1. , 1. , 0.1, 0.3],\n",
       "        [0.6, 1. , 0.3, 0.5, 0.8]]])"
      ]
     },
     "execution_count": 15,
     "metadata": {},
     "output_type": "execute_result"
    }
   ],
   "source": [
    "array_8 = np.random.rand(2, 3, 5).round(1)\n",
    "array_8"
   ]
  },
  {
   "cell_type": "markdown",
   "metadata": {},
   "source": [
    "2. Crea un array vacío con la misma forma y dimensiones que el array creado anteriormente. Vamos a reemplazar los valores de la matriz vacía que nos acabamos de crear pero basándonos en los valores del primer array bajo las siguientes condiciones:\n",
    "Si el valor del array es igual que la media, se reemplaza por \"A\".\n",
    "Si el valor del array es mayor que la media, se reemplaza por \"B\".\n",
    "Si el valor del array es menor que la media, se reemplaza por \"C\".\n",
    "Si el valor es igual que el máximo, se reemplaza por \"D\".\n",
    "Si el valor es igual que el mínimo, se reemplaza por \"E\"."
   ]
  }
 ],
 "metadata": {
  "kernelspec": {
   "display_name": "base",
   "language": "python",
   "name": "python3"
  },
  "language_info": {
   "codemirror_mode": {
    "name": "ipython",
    "version": 3
   },
   "file_extension": ".py",
   "mimetype": "text/x-python",
   "name": "python",
   "nbconvert_exporter": "python",
   "pygments_lexer": "ipython3",
   "version": "3.11.4"
  }
 },
 "nbformat": 4,
 "nbformat_minor": 2
}
